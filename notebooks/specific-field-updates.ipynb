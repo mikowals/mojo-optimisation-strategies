{
 "cells": [
  {
   "cell_type": "markdown",
   "metadata": {},
   "source": [
    "## Mojo optimisation strategy: Only write mutated fields of a large struct ##  \n",
    "\n",
    "If you are looping through a list and mutating the value of a single field in a `struct`, try **only writing to the mutated field in the struct** when putting it back in the list.  \n",
    "\n",
    "This optimisation was discovered while playing with [this N-body implementation](https://github.com/paugier/nbabel/blob/main/mojo/mikowals_experiments.mojo#L66-L84).  The filename contains my username because I made some initial tweaks that sped the code up and the repository owner wanted to preserve them and keep them separate from other work.  \n",
    "\n",
    "Discovered may not be the right word.  To anyone who has ever worked with a database, updating only mutated fields is an obvious way to move less data and consume less compute.  For Mojo though it is less obvious why that would work.  It does seem important in at least some cases though and I have not seen this behaviour explained or discussed anywhere.\n",
    "\n",
    "I am still not sure of all the elements that combine to make this optimisation necessary.  I also have basic questions about how and why it works.\n",
    "\n",
    "That said, below are some steps to create a contrived scenario where updating a single field gets a dramatic improvement.  As new versions of Mojo are released I can rerun the code and watch for changes."
   ]
  },
  {
   "cell_type": "markdown",
   "metadata": {},
   "source": [
    "#### Make a simple but somewhat large struct ####\n",
    "If the `struct` only contains a few values it doesn't matter how it is updated and it will be fast.  For example, trying this optimisation had no impact on Modular's own [nbody.mojo](https://github.com/modularml/mojo/blob/main/examples/nbody.mojo) example.  That code has three fields and each holds a SIMD vector with four float64 values.  For this demonstration, I have gone crazy and used seven fields with vectors of sixteen values each.\n",
    "\n",
    "But it is still very simple.  I use the `@value` decorator to generate boilerplate code for moving and copying.  I could also make it `@register_passable` or `@register_passable(\"trivial\")` and it shows the same benefit from this optimisation.  There is nothing special happening here other than making the stuct a bit bulky."
   ]
  },
  {
   "cell_type": "code",
   "execution_count": 2,
   "metadata": {},
   "outputs": [],
   "source": [
    "from random import random_float64\n",
    "# Used to fill SIMD with values.  Vectors of zero values might be fast no matter what.\n",
    "fn create_rand_SIMD16() -> SIMD[DType.float64, 16]:\n",
    "    var res = SIMD[DType.float64, 16](0.0)\n",
    "    for i in range(16):\n",
    "        res[i] = random_float64()\n",
    "    return res\n",
    "\n",
    "@value\n",
    "struct ManyFields(CollectionElement):\n",
    "    var a: SIMD[DType.float64, 16]\n",
    "    var b: SIMD[DType.float64, 16]\n",
    "    var c: SIMD[DType.float64, 16]\n",
    "    var d: SIMD[DType.float64, 16]\n",
    "    var e: SIMD[DType.float64, 16]\n",
    "    var f: SIMD[DType.float64, 16]\n",
    "    var g: SIMD[DType.float64, 16]\n",
    "\n",
    "    fn __init__(inout self):\n",
    "        self.a = create_rand_SIMD16()\n",
    "        self.b = create_rand_SIMD16()\n",
    "        self.c = create_rand_SIMD16()\n",
    "        self.d = create_rand_SIMD16()\n",
    "        self.e = create_rand_SIMD16()\n",
    "        self.f = create_rand_SIMD16()\n",
    "        self.g = create_rand_SIMD16()"
   ]
  },
  {
   "cell_type": "markdown",
   "metadata": {},
   "source": [
    "#### Write a slow function ###\n",
    "The math below is nonsense.  I tried writing simpler nonsense. For example, I accumulated all the other fields into `a` with some division to prevent overflow.  But that code was fast.  So in the end I did a series of steps using several values from the two structs. \n",
    "\n",
    "And with a large enough number of fields being read or many intermediate values computed, the code could get really slow depending on how elements were written to the heap.  Here it is done the slow way. Writing back the entire `struct` to the vector in the last two lines.(see note 1 below)\n",
    "\n",
    "I also use a nested loop structure so we don't need many elements to get a lot of writes happening.  The loops can be unrolled and it will be faster but benefit of this optimisation persists.  \n",
    "__________\n",
    "\n",
    "\n",
    "Note 1: I have strong doubts that this optimisation works anything at all like my initial intuition or how I have explained it so far.  My intuition was that writing one field to the heap is more efficient than writing many fields.  And doing a change that makes it look like you are writing one field is certainly faster.  But do we really know the address of the one field on the heap so we can find it and write it quickly?\n",
    "\n",
    "If you modify the `struct` to print each time `__copyinit__` and `__moveinit__` are called, you can see we are always working with the whole `struct`.  The code in our `fast_mutating_loop` (a few sections down) does look like it is writing one field.  The trouble is that `__copyinit__` is called on the whole struct that will be replaced.  The mutated field is updated in that copy.  The no longer needed item-that-will-be-replaced is deleted. And finally `__moveinit__` places the now mutated element back into the vector.  Since `slow_mutating_loop` below already got a copy and mutated the desired field, it should be faster just to move that existing copy to the vector.  Which it could do because they are local copies that are not used anywhere else.  But just moving the mutated element into the vector is slower.\n",
    "\n",
    "Any one who can write a correct explanation for why this optimisation works is most welcome.  But for now my intuitive explanation seems like the best way to make it a memorable thing to look for."
   ]
  },
  {
   "cell_type": "code",
   "execution_count": 3,
   "metadata": {},
   "outputs": [],
   "source": [
    "fn slow_mutating_loop(inout v: DynamicVector[ManyFields]):\n",
    "    for i in range(len(v)):\n",
    "        var mf_i = v[i]\n",
    "        \n",
    "        for j in range(i + 1, len(v)):\n",
    "            var mf_j = v[j]\n",
    "            # Irrelevant math loosely based on the N-body problem\n",
    "            let delta = mf_i.g - mf_j.g\n",
    "            let d_sq = delta * delta\n",
    "            let mag = random_float64() / d_sq\n",
    "            mf_j.a += (mf_i.b + mf_i.c) * mag\n",
    "            mf_i.a += (mf_j.b + mf_j.c) * mag\n",
    "            # End of irrelevant math. \n",
    "            \n",
    "            # We have only changed `a` but we are writing the entire struct.\n",
    "            v[j] = mf_j\n",
    "\n",
    "        # Same mistake again but in an outer loop so the slow down is barely noticeable.\n",
    "        v[i] = mf_i"
   ]
  },
  {
   "cell_type": "markdown",
   "metadata": {},
   "source": [
    "#### Create a benchmark function ####\n",
    "This is a standard Mojo way to time and compare functions.  It relies on Mojo's Benchmark module which has very useful features to do a few warm ups before timing, run a lot of iterations in the time it is alloted, and produce a nice report of what it did.\n",
    "\n",
    "One notable thing here is that I use a DynamicVector to hold the elements.  There are a few other choices that could be made but as far as I could tell which collection type I chose was irrelevant to the demonstration.  I tried InlinedFixedVector, StaticTuple, Pointer, and a custom struct.  This optimisation appears to work for all of them.  "
   ]
  },
  {
   "cell_type": "code",
   "execution_count": 4,
   "metadata": {},
   "outputs": [],
   "source": [
    "from benchmark import run \n",
    "\n",
    "fn bench[name: String, func: fn(inout DynamicVector[ManyFields]) -> None, size: Int]() -> Float64:\n",
    "\n",
    "    # create and fill a vector\n",
    "    var v = DynamicVector[ManyFields](size)\n",
    "    for i in range(size):\n",
    "        v.append(ManyFields())\n",
    "    \n",
    "    @parameter\n",
    "    fn wrapper():\n",
    "        func(v)\n",
    "        \n",
    "    # the actual timing\n",
    "    let result = run[wrapper](min_runtime_secs=0.01, max_runtime_secs=1.0)\n",
    "    \n",
    "    # prevent v being destroyed early\n",
    "    _ = (v,)\n",
    "    \n",
    "    print(name, \"updated\", size, \"elements in\", result.mean(), \"seconds.\")\n",
    "    return result.mean()"
   ]
  },
  {
   "cell_type": "markdown",
   "metadata": {},
   "source": [
    "#### Time the slow function ####"
   ]
  },
  {
   "cell_type": "code",
   "execution_count": 5,
   "metadata": {},
   "outputs": [
    {
     "name": "stdout",
     "output_type": "stream",
     "text": [
      "Slow updated 512 elements in 0.003714698412698413 seconds.\n"
     ]
    }
   ],
   "source": [
    "let slow_time = bench[\"Slow\", slow_mutating_loop, 512]()"
   ]
  },
  {
   "cell_type": "markdown",
   "metadata": {},
   "source": [
    "#### The fast version ####\n",
    "We now change the heap updates so they look like they only handle a single field.  Please read 'note 1' above. The change is simple and it looks intuitive.  But why it works is not really clear. \n",
    "\n",
    "The key change is `v[j] = mf_j` becomes `v[j].a = mf_j.a`.\n",
    "\n",
    "The same change in the outer loop also makes a measurable difference, but nothing like the inner loop since it is only called once for each element."
   ]
  },
  {
   "cell_type": "code",
   "execution_count": 6,
   "metadata": {},
   "outputs": [],
   "source": [
    "fn fast_mutating_loop(inout v: DynamicVector[ManyFields]):\n",
    "    for i in range(len(v)):\n",
    "        var mf_i = v[i]\n",
    "        \n",
    "        for j in range(i + 1, len(v)):\n",
    "            var mf_j = v[j]\n",
    "            # Same irrelevant math loosely based on the N-body problem\n",
    "            let delta = mf_i.g - mf_j.g\n",
    "            let d_sq = delta * delta\n",
    "            let mag = random_float64() / d_sq\n",
    "            mf_j.a += (mf_i.b + mf_i.c) * mag\n",
    "            mf_i.a += (mf_j.b + mf_j.c) * mag\n",
    "            \n",
    "            # New fast line to write to the heap\n",
    "            v[j].a = mf_j.a\n",
    "\n",
    "        # New fast write to the heap here also.\n",
    "        v[i].a = mf_i.a"
   ]
  },
  {
   "cell_type": "markdown",
   "metadata": {},
   "source": [
    "#### Time the fast version ####"
   ]
  },
  {
   "cell_type": "code",
   "execution_count": 7,
   "metadata": {},
   "outputs": [
    {
     "name": "stdout",
     "output_type": "stream",
     "text": [
      "Fast updated 512 elements in 0.0020175977011494253 seconds.\n",
      "A speedup of 1.8411492095684634 times.\n"
     ]
    }
   ],
   "source": [
    "let fast_time = bench[\"Fast\", fast_mutating_loop, 512]()\n",
    "print(\"A speedup of\", slow_time / fast_time, \"times.\")"
   ]
  },
  {
   "cell_type": "markdown",
   "metadata": {},
   "source": [
    "#### Results ####\n",
    "So those small changes almost make the code twice as fast!  The fast version of the code is slightly less readable. And hopefully my necessarily elaborate demonstration makes it obvious that most code will not get any benefit from this change.   But with a 1.8x speedup possible it is well worth looking for opportunities where only one field is changing.  And I have not yet seen an instance where trying to change one field made the code slower.  But it is ugly to read.\n",
    "\n",
    "Ideally this will help identify a bug.  If that happens I will update the timings here and explain that.  That seems more ideal to me than for this style of writing updates to become standard.  But I don't know if it is a bug.\n",
    "\n",
    "My actual guess of what is happening is that the large struct and many math operations have an impact on either what is in caches or the compiler's ability to determine that only one field changed.  Somehow writing as if we are updating a single field gets around that by copying the element out, changing one field, and immediately putting most of the same values back.  I say this because:\n",
    "- DynamicVector appears to make an extra copy and delete in the fast version.  \"Extra copy\" sounds like something to be avoided but copying just before the write is an optimisation.\n",
    "- `register_passable` appears to have no impact.  The struct may be too big to utilise being passed in registers effectively. \n",
    "- Simple math and a few calculations did not reproduce the slow path. Loading lots of values and saving intermediate values would change what is in the cache between reading from the vector and writing to it. \n",
    "\n",
    "But I am well out of my depth in guessing what is actually happening."
   ]
  },
  {
   "cell_type": "markdown",
   "metadata": {},
   "source": [
    "## The End ##"
   ]
  },
  {
   "cell_type": "markdown",
   "metadata": {},
   "source": [
    "#### The stuff below is unnecessary fun and loosely related observations ####"
   ]
  },
  {
   "cell_type": "markdown",
   "metadata": {},
   "source": [
    "#### Fun parametric version to make sure math is identical ####"
   ]
  },
  {
   "cell_type": "code",
   "execution_count": 8,
   "metadata": {},
   "outputs": [],
   "source": [
    "fn mutating_loop[make_fast: Bool = False](inout v: DynamicVector[ManyFields]):\n",
    "    for i in range(len(v)):\n",
    "        var mf_i = v[i]\n",
    "        for j in range(i + 1, len(v)):\n",
    "            var mf_j = v[j]\n",
    "            let delta = mf_i.g - mf_j.g\n",
    "            let d_sq = delta * delta\n",
    "            let mag = random_float64() / d_sq\n",
    "            mf_j.a += (mf_i.b + mf_i.c) * mag\n",
    "            mf_i.a += (mf_j.b + mf_j.c) * mag\n",
    "            if make_fast:\n",
    "                v[j].a = mf_j.a\n",
    "            else:\n",
    "                v[j] = mf_j\n",
    "        \n",
    "        if make_fast:\n",
    "            v[i].a = mf_i.a\n",
    "        else:\n",
    "            v[i] = mf_i"
   ]
  },
  {
   "cell_type": "markdown",
   "metadata": {},
   "source": [
    "#### Fancy parametric reproduction of results ####"
   ]
  },
  {
   "cell_type": "code",
   "execution_count": 9,
   "metadata": {},
   "outputs": [
    {
     "name": "stdout",
     "output_type": "stream",
     "text": [
      "Slow updated 512 elements in 0.0037189523809523809 seconds.\n",
      "Fast updated 512 elements in 0.002011279569892473 seconds.\n",
      "A speedup of 1.849047957639824 times.\n"
     ]
    }
   ],
   "source": [
    "let another_slow_time = bench[\"Slow\", mutating_loop[make_fast = False], 512]()\n",
    "let another_fast_time = bench[\"Fast\", mutating_loop[make_fast = True], 512]()\n",
    "print(\"A speedup of\", another_slow_time / another_fast_time, \"times.\")"
   ]
  },
  {
   "cell_type": "markdown",
   "metadata": {},
   "source": [
    "#### Demonstrate the extra copy in our fast version ####\n",
    "For a new language like Mojo it is fun to see how it is working.  This particular behaviour may not last long as it should be more efficient to move the old element, update it, and move back the changed element.  Such a change might break the fast version above.\n",
    "\n",
    "To demonstrate, I will write a simple struct with one field.  The struct is Verbose and prints when it is moved, copied or deleted.  I will then use the two different update methods: 1) whole element, and 2) single field.  \n",
    "\n",
    "When writing the whole element, what I see is what I expect:\n",
    "- old element moved (for deletion)\n",
    "- old element deleted\n",
    "- new element moved into the vector\n",
    "\n",
    "When writing a single field, I expected to see two moves but instead you get:\n",
    "- old element copied\n",
    "- old element moved (for deletion)\n",
    "- old element deleted\n",
    "- new element moved"
   ]
  },
  {
   "cell_type": "code",
   "execution_count": 10,
   "metadata": {},
   "outputs": [
    {
     "name": "stdout",
     "output_type": "stream",
     "text": [
      "moveinit from value: 0\n",
      "moveinit from value: 1\n",
      "moveinit from value: 2\n",
      "moveinit from value: 3\n",
      "done filling array\n",
      "\n",
      "write a whole element at index 0\n",
      "moveinit from value: 0\n",
      "deleting value: 0\n",
      "moveinit from value: 10\n",
      "done writing a whole element\n",
      "\n",
      "write one field at index 1\n",
      "copyinit from value: 1\n",
      "moveinit from value: 1\n",
      "deleting value: 1\n",
      "moveinit from value: 20\n",
      "done writing one field\n",
      "\n",
      "watch DynamicVector clean up by moving and deleting each element.\n",
      "moveinit from value: 10\n",
      "deleting value: 10\n",
      "moveinit from value: 20\n",
      "deleting value: 20\n",
      "moveinit from value: 2\n",
      "deleting value: 2\n",
      "moveinit from value: 3\n",
      "deleting value: 3\n"
     ]
    }
   ],
   "source": [
    "struct Verbose(CollectionElement):\n",
    "    var value: Int16\n",
    "\n",
    "    fn __init__(inout self, value: Int16):\n",
    "        self.value = value\n",
    "\n",
    "    fn __copyinit__(inout self, other: Self):\n",
    "        print(\"copyinit from value:\", other.value)\n",
    "        self.value = other.value\n",
    "\n",
    "    fn __moveinit__(inout self, owned other: Self):\n",
    "        print(\"moveinit from value:\", other.value)\n",
    "        self.value = other.value ^\n",
    "    \n",
    "    fn __del__(owned self):\n",
    "        print(\"deleting value:\", self.value)\n",
    "        # nothing to be done since all fields have a __del__ method\n",
    "\n",
    "fn demonstrate_moves_and_copies():\n",
    "    #fill array\n",
    "    var v = DynamicVector[Verbose](4)\n",
    "    for i in range(4):\n",
    "        v.append(Verbose(i))\n",
    "\n",
    "    print(\"done filling array\")\n",
    "    print()\n",
    "\n",
    "    print(\"write a whole element at index 0\")\n",
    "    v[0] = Verbose(10)\n",
    "    print(\"done writing a whole element\")\n",
    "    print()\n",
    "\n",
    "    print(\"write one field at index 1\")\n",
    "    v[1].value = 20\n",
    "    print(\"done writing one field\")\n",
    "    print()\n",
    "\n",
    "    #keep the DynamicVector around so we don't get extra deletes above.\n",
    "    print(\"watch DynamicVector clean up by moving and deleting each element.\")\n",
    "    _ = (v,)\n",
    "\n",
    "demonstrate_moves_and_copies()"
   ]
  },
  {
   "cell_type": "markdown",
   "metadata": {},
   "source": [
    "#### What is single field write doing? And how? ####\n",
    "Maybe this is obvious to everyone else but it wasn't obvious to me.  `v[i].a = mf_j.a` works by calling `__setitem__`.  It appears to be a feature added into the `[i]` shorthand version which usually can be thought of as `__setitem__(i)`.  But if you try `v.__setitem__(i).a = mf_j.a` you get errors.  So that shorthand may be an important part of what I am writing about.\n",
    "\n",
    "I absolutely expect that `v[i].a` would lead to the element at `i` getting its `a` field updated and all other fields unchanged.  And that is what happens.  But how to manually manage it with my own `__setitem__` is a mystery.  Also, I am pretty sure based on the extra copy in DynamicVector above that `v[i].a = whatever` is misleading.  I don't think many people would read that code as \"write a new element to v[i] but do it by copying the old element to a new element and then delete the old element\". That it runs faster in the code above is odd.  It has an extra copy and an extra delete.  Move element, update it, put it back.  No copy or delete.  \n",
    "\n",
    "But without the copy is the slow path. *** mind blows up ***"
   ]
  }
 ],
 "metadata": {
  "kernelspec": {
   "display_name": "Mojo",
   "language": "mojo",
   "name": "mojo-jupyter-kernel"
  },
  "language_info": {
   "codemirror_mode": {
    "name": "mojo"
   },
   "file_extension": ".mojo",
   "mimetype": "text/x-mojo",
   "name": "mojo"
  }
 },
 "nbformat": 4,
 "nbformat_minor": 2
}
